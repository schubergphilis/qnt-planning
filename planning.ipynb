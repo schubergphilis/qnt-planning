{
 "cells": [
  {
   "cell_type": "markdown",
   "id": "ddff49f46c0728ee",
   "metadata": {},
   "source": [
    "# Planning challenge Quantum workshop\n",
    "1. [Problem statement](#problem-statement)\n",
    "2. [System Prerequisites](#prerequisites)\n",
    "3. [System Setup](#system-setup)\n",
    "   1. [Editor](#editor)\n",
    "   2. [Add-ons](#editor-addons)\n",
    "   3. [pyenv](#pyenv-setup)\n",
    "      1. [MacOS-Linux](#pyenv-unixes)\n",
    "      2. [Windows](#pyenv-win)\n",
    "   4. [pipx](#pipx-setup)\n",
    "   5. [pipenv](#pipenv-setup)\n",
    "   6. [Install dependencies](#installing-dependencies)\n",
    "   7. [Install quality tools](#installing-quality)\n",
    "   8. [Linting the current code](#linting)\n",
    "4. [Quantum approach](#quantum-approach)\n",
    "5. [Execution on remote backends (simulators and actual quantum machines)](#remote-backends)\n",
    "   1. [IBM Quantum](#ibm-backend)\n",
    "   2. [AWS Braket](#aws-backend)\n",
    "   3. [Quantum Inspire](#inspire-backend)"
   ]
  },
  {
   "cell_type": "markdown",
   "id": "8d3d6441321fd651",
   "metadata": {},
   "source": [
    "## Problem Statement <a id=\"problem-statement\"></a>\n",
    "\n",
    "Here we want to elaborate a little on the problem, the approach and the reasoning."
   ]
  },
  {
   "cell_type": "markdown",
   "id": "ce0f96f1820b1d28",
   "metadata": {},
   "source": [
    "## System Prerequisites <a id=\"prerequisites\"></a>\n",
    "\n",
    "The only prerequisite to set up the workshop is [git](https://git-scm.com/) since the approach taken to install the python interpeter manager [pyenv](https://github.com/pyenv/pyenv), is based on git."
   ]
  },
  {
   "cell_type": "markdown",
   "id": "b4b32a7d47b721fb",
   "metadata": {},
   "source": [
    "## System Setup <a id=\"system-setup\"></a>\n",
    "\n",
    "The following instructions will guide through the full setup of the workshop in a deterministic and reproducible manner. If a user is advanced and knows how things are working they can choose an alternative approach, tool or setup."
   ]
  },
  {
   "cell_type": "markdown",
   "id": "a69929562b41428",
   "metadata": {},
   "source": [
    "### Editor <a id=\"editor\"></a>\n",
    "\n",
    "The suggested editor to use is [vscode](https://code.visualstudio.com/). Please use your prefered method of installation according to your tastes and operating system."
   ]
  },
  {
   "cell_type": "markdown",
   "id": "9c7167e90c822b64",
   "metadata": {},
   "source": [
    "### Editor addons <a id=\"editor-addons\"></a>\n",
    "\n",
    "On [vscode](https://code.visualstudio.com/) the addons used for this workshop are [jupyter](https://marketplace.visualstudio.com/items?itemName=ms-toolsai.jupyter) to use the actuall notebook and optionally [aws-toolkit](https://marketplace.visualstudio.com/items?itemName=AmazonWebServices.aws-toolkit-vscode) if you are interested in executing the code on AWS.\n",
    "\n",
    "Please install the jupiter plugin from the above link."
   ]
  },
  {
   "cell_type": "markdown",
   "id": "1395e2523c70f3ee",
   "metadata": {},
   "source": [
    "### Python interpreter manager (pyenv) <a id=\"pyenv-setup\"></a>\n",
    "\n",
    "We are using pyenv to manage multiple python versions and pin a specific one for this workwhop. Please follow the instructions per your operating system."
   ]
  },
  {
   "cell_type": "markdown",
   "id": "d25c6a6259825bbb",
   "metadata": {},
   "source": [
    "#### pyenv on MacOS/Linux <a id=\"pyenv-unixes\"></a>\n",
    "\n",
    "Please use the basic git check out checkout way, do not use `brew` (On mac OS) \n",
    "You can find details [here](https://github.com/pyenv/pyenv#basic-github-checkout)\n",
    "\n",
    "After you complete the checkout and set up your shell accordingly, please make sure to install the [system prerequisites](https://github.com/pyenv/pyenv/wiki#suggested-build-environment) (according to the operating system you are on) to be able to install a python interpreter.\n",
    "\n",
    "Once the above steps are completed (the system dependencies will take some time) and you have actually [configured pyenv in your shell](https://github.com/pyenv/pyenv#set-up-your-shell-environment-for-pyenv) you can install a python interpreter via pyenv like\n",
    "\n",
    "```bash\n",
    "    pyenv install 3.10.8\n",
    "```\n",
    "\n",
    "Once that step is completed (it will also take a long time, go grab a coffee) you can activate this python interpreter as your default one system wide like\n",
    "\n",
    "```bash\n",
    "    pyenv global 3.10.8\n",
    "```\n",
    "\n",
    "after this point in a new shell if you start python you will see\n",
    "\n",
    "```bash\n",
    "    python\n",
    "\n",
    "Python 3.10.8 (main, Dec  4 2022, 10:23:05) [Clang 14.0.0 (clang-1400.0.29.202)] on darwin\n",
    "Type \"help\", \"copyright\", \"credits\" or \"license\" for more information.\n",
    "\n",
    ">>> exit()\n",
    "```\n",
    "\n",
    "exit the interpreter."
   ]
  },
  {
   "cell_type": "markdown",
   "id": "3a4dcef1975b121d",
   "metadata": {},
   "source": [
    "#### pyenv on Windows <a id=\"pyenv-win\"></a>\n",
    "\n",
    "Use the [windows port](https://github.com/pyenv-win/pyenv-win#installation) of pyenv and install with your preferred method (Probably [powershell?](https://github.com/pyenv-win/pyenv-win/blob/master/docs/installation.md#powershell)).\n",
    "\n",
    "\n",
    "```bash\n",
    "    pyenv install 3.10.8\n",
    "```\n",
    "\n",
    "Once that step is completed (it will also take a long time, go grab a coffee) you can activate this python interpreter as your default one system wide like\n",
    "\n",
    "```bash\n",
    "    pyenv global 3.10.8\n",
    "```\n",
    "\n",
    "after this point in a new shell if you start python you will see\n",
    "\n",
    "```bash\n",
    "    python.exe\n",
    "\n",
    "Python 3.10.8 (main, Dec  4 2022, 10:23:05) [Clang 14.0.0 (clang-1400.0.29.202)] on darwin\n",
    "Type \"help\", \"copyright\", \"credits\" or \"license\" for more information.\n",
    "\n",
    ">>> exit()\n",
    "```\n",
    "\n",
    "exit the interpreter."
   ]
  },
  {
   "cell_type": "markdown",
   "id": "7d1867b03d4c00b1",
   "metadata": {},
   "source": [
    "### [pipx](https://pipx.pypa.io/stable/) Install and Run Python Applications in Isolated Environments <a id=\"pipx-setup\"></a>\n",
    "\n",
    "On windows you need to add the `.exe` extensions to all commands shown below.\n",
    "\n",
    "update pip and install pipx\n",
    "\n",
    "```bash\n",
    "    pip install -U pip pipx  # pip.exe install -U pip pipx (for windows)\n",
    "```\n",
    "\n",
    "Make sure that pipx is properly activated on your environment\n",
    "\n",
    "```bash\n",
    "    pipx ensurepath  # pipx.exe ensurepath (for windows)\n",
    "```\n"
   ]
  },
  {
   "cell_type": "markdown",
   "id": "5290d32fc1dcd554",
   "metadata": {},
   "source": [
    "### [pipenv](https://pipenv.pypa.io/en/latest/) Python virtualenv management tool and package manager <a id=\"pipenv-setup\"></a>\n",
    "\n",
    "using pipx we can install pipenv\n",
    "\n",
    "```bash\n",
    "    pipx install pipenv  # pipx.exe install pipenv (for windows)\n",
    "```\n",
    "\n",
    "### Configure pipenv for the appropriate python version and setting for local virtual environment\n",
    "\n",
    "MacOS/Linux\n",
    "\n",
    "```bash\n",
    "export PIPENV_DEFAULT_PYTHON_VERSION=$(pyenv which python)\n",
    "export PIPENV_PYTHON=`pyenv version | cut -d\" \" -f1`\n",
    "export PIPENV_VENV_IN_PROJECT=true\n",
    "```\n",
    "\n",
    "Windows  #TODO fix the windows environment variable export\n",
    "\n",
    "```powershell\n",
    "$env:PIPENV_DEFAULT_PYTHON_VERSION=#TODO\n",
    "$env:PIPENV_PYTHON=#TODO\n",
    "$env:PIPENV_VENV_IN_PROJECT=true\n",
    "```\n",
    "\n",
    "Do not forget to select your interpreter (kernel) before running the other cells in the notebook!\n"
   ]
  },
  {
   "cell_type": "markdown",
   "id": "566f7768eb5bf7f4",
   "metadata": {},
   "source": [
    "#### OS module is needed for all executions of code below so we import here"
   ]
  },
  {
   "cell_type": "code",
   "execution_count": 4,
   "id": "b2263d5dc92b6d54",
   "metadata": {},
   "outputs": [],
   "source": [
    "import os"
   ]
  },
  {
   "cell_type": "markdown",
   "id": "b4b357da0e393f70",
   "metadata": {},
   "source": [
    "### Install all required dependencies for the workshop <a id=\"installing-dependencies\"></a> (in a shell execute)\n",
    "\n",
    "```bash\n",
    "pipenv install --dev\n",
    "```"
   ]
  },
  {
   "cell_type": "markdown",
   "id": "4b683a0fd631484f",
   "metadata": {},
   "source": [
    "### Install linters for quality <a id=\"installing-quality\"></a>"
   ]
  },
  {
   "cell_type": "code",
   "execution_count": 5,
   "id": "ef3b86f5c994b325",
   "metadata": {},
   "outputs": [],
   "source": [
    "os.system('pipenv install --categories quality')"
   ]
  },
  {
   "cell_type": "markdown",
   "id": "f32208c12bf544df",
   "metadata": {},
   "source": [
    "### Lint the current code and sort imports <a id=\"linting\"></a>"
   ]
  },
  {
   "cell_type": "code",
   "execution_count": 6,
   "id": "634721c99d76e8c",
   "metadata": {},
   "outputs": [],
   "source": [
    "import os\n",
    "\n",
    "commands = ('isort', 'nblint', 'ruff')\n",
    "\n",
    "for command in commands:\n",
    "    print(f'Running {command}')\n",
    "    print(os.system(f'pipenv run {command}'))"
   ]
  },
  {
   "cell_type": "markdown",
   "id": "c426535bbcef12d0",
   "metadata": {
    "collapsed": false
   },
   "source": [
    "## Classical Approach <a id=\"classical-approach\"></a>"
   ]
  },
  {
   "cell_type": "markdown",
   "id": "5e140e60a94be8d7",
   "metadata": {
    "collapsed": false
   },
   "source": [
    "### Import the linear programming constructs from Pulp"
   ]
  },
  {
   "cell_type": "code",
   "execution_count": 7,
   "id": "24fa2dc91371acd8",
   "metadata": {
    "collapsed": false
   },
   "outputs": [],
   "source": [
    "from pulp import LpBinary, LpMinimize, LpProblem, LpVariable, lpSum\n",
    "from pulp import value as pulp_value"
   ]
  },
  {
   "cell_type": "markdown",
   "id": "87c8c4e58c525f1d",
   "metadata": {
    "collapsed": false
   },
   "source": [
    "### Flag to turn on/off the optimization for equal distribution"
   ]
  },
  {
   "cell_type": "code",
   "execution_count": 8,
   "id": "3fb46781576f33e5",
   "metadata": {
    "collapsed": false
   },
   "outputs": [],
   "source": [
    "optimize_for_equal_distribution = True  # Set to True to turn on the optimization"
   ]
  },
  {
   "cell_type": "markdown",
   "id": "53245b36505b096c",
   "metadata": {
    "collapsed": false
   },
   "source": [
    "### Define the set of people, the set of projects and the available discretized timeslots"
   ]
  },
  {
   "cell_type": "code",
   "execution_count": 9,
   "id": "a4153cfff32c59a8",
   "metadata": {
    "collapsed": false
   },
   "outputs": [],
   "source": [
    "people = ['P1', 'P2']\n",
    "projects = ['Proj1', 'Proj2', 'Proj3']\n",
    "timeslots = [0, 1, 2, 3]"
   ]
  },
  {
   "cell_type": "markdown",
   "id": "aaf83574f9e8aae0",
   "metadata": {
    "collapsed": false
   },
   "source": [
    "### Set the project requirements in terms of hours\n",
    "TODO: Make sure that the requirements match the requirements set in the [Quantum approach](#quantum-approach)"
   ]
  },
  {
   "cell_type": "code",
   "execution_count": 10,
   "id": "8408fbe2a828e010",
   "metadata": {
    "ExecuteTime": {
     "end_time": "2023-12-11T17:15:23.337129300Z",
     "start_time": "2023-12-11T17:15:23.284139200Z"
    },
    "collapsed": false
   },
   "outputs": [],
   "source": [
    "projects_requirements = {'Proj1': 2, 'Proj2': 5, 'Proj3': 1}"
   ]
  },
  {
   "cell_type": "markdown",
   "id": "bb83388aff367c9b",
   "metadata": {
    "collapsed": false
   },
   "source": [
    "### Initialize the optimization problem"
   ]
  },
  {
   "cell_type": "code",
   "execution_count": 11,
   "id": "ce74355c9360ad4a",
   "metadata": {
    "collapsed": false
   },
   "outputs": [],
   "source": [
    "model = LpProblem(\"Scheduling_Problem\", LpMinimize)"
   ]
  },
  {
   "cell_type": "markdown",
   "id": "91e16ac39a84dad0",
   "metadata": {
    "collapsed": false
   },
   "source": [
    "### Define the decision variables"
   ]
  },
  {
   "cell_type": "code",
   "execution_count": 12,
   "id": "b93cfc4c5e67dbc2",
   "metadata": {
    "collapsed": false
   },
   "outputs": [],
   "source": [
    "assignments = LpVariable.dicts(\"assignment\",\n",
    "                               (projects, people, timeslots),\n",
    "                               cat=LpBinary)"
   ]
  },
  {
   "cell_type": "markdown",
   "id": "98734726e9c2587f",
   "metadata": {
    "collapsed": false
   },
   "source": [
    "### Define the constraints"
   ]
  },
  {
   "cell_type": "markdown",
   "id": "fb3ad281d1d4801e",
   "metadata": {
    "collapsed": false
   },
   "source": [
    "Each project must have the specified number of timeslots filled exactly"
   ]
  },
  {
   "cell_type": "code",
   "execution_count": 13,
   "id": "61bb8cf2c621adb6",
   "metadata": {
    "collapsed": false
   },
   "outputs": [],
   "source": [
    "for j in projects:\n",
    "    model += lpSum(assignments[j][p][t] for p in people\n",
    "                   for t in timeslots) == projects_requirements[j], f\"Requirement_{j}\""
   ]
  },
  {
   "cell_type": "markdown",
   "id": "94032cf3ac2e56e1",
   "metadata": {
    "collapsed": false
   },
   "source": [
    "Each person can work on each project for 0, 1, 2, or 3 timeslots, but not more"
   ]
  },
  {
   "cell_type": "code",
   "execution_count": 14,
   "id": "f122fd81b39f8776",
   "metadata": {
    "collapsed": false
   },
   "outputs": [],
   "source": [
    "for p in people:\n",
    "    for j in projects:\n",
    "        model += lpSum(assignments[j][p][t] for t in timeslots) <= 3, f\"Person_{p}_Proj_{j}_max_timeslots\""
   ]
  },
  {
   "cell_type": "markdown",
   "id": "fb0f29c75815fd9d",
   "metadata": {
    "collapsed": false
   },
   "source": [
    "Define additional variables for optimization"
   ]
  },
  {
   "cell_type": "code",
   "execution_count": 15,
   "id": "77826ffee4c1e7d7",
   "metadata": {
    "collapsed": false
   },
   "outputs": [],
   "source": [
    "if optimize_for_equal_distribution:\n",
    "    max_timeslots_worked = LpVariable(\"max_timeslots_worked\", lowBound=0)\n",
    "    min_timeslots_worked = LpVariable(\"min_timeslots_worked\", lowBound=0)\n",
    "\n",
    "    # Ensure the max_timeslots_worked and min_timeslots_worked variables are correctly bound\n",
    "    for p in people:\n",
    "        person_timeslots = lpSum(assignments[j][p][t] for j in projects\n",
    "                                 for t in timeslots)\n",
    "        model += person_timeslots <= max_timeslots_worked, f\"Max_timeslots_worked_{p}\"\n",
    "        model += person_timeslots >= min_timeslots_worked, f\"Min_timeslots_worked_{p}\"\n",
    "\n",
    "    # Objective function to minimize the difference between the max and min timeslots worked\n",
    "    model += max_timeslots_worked - min_timeslots_worked\n",
    "else:\n",
    "    # Dummy objective function for when we're not optimizing for equal distribution\n",
    "    model += 0"
   ]
  },
  {
   "cell_type": "markdown",
   "id": "f0779ef7909c6b32",
   "metadata": {
    "collapsed": false
   },
   "source": [
    "### Solve the model "
   ]
  },
  {
   "cell_type": "code",
   "execution_count": 16,
   "id": "fdd1cb3c3b3137f",
   "metadata": {
    "collapsed": false
   },
   "outputs": [],
   "source": [
    "model.solve()"
   ]
  },
  {
   "cell_type": "markdown",
   "id": "6a82591f2d4aa568",
   "metadata": {
    "collapsed": false
   },
   "source": [
    "### Output the results in a matrix format"
   ]
  },
  {
   "cell_type": "code",
   "execution_count": 17,
   "id": "dc8dfa3fe48aede7",
   "metadata": {
    "collapsed": false
   },
   "outputs": [],
   "source": [
    "assignment_matrix = {p: {j: 0 for j in projects} for p in people}"
   ]
  },
  {
   "cell_type": "markdown",
   "id": "5c9b73f253182299",
   "metadata": {
    "collapsed": false
   },
   "source": [
    "### Fill the matrix with the results"
   ]
  },
  {
   "cell_type": "code",
   "execution_count": 18,
   "id": "d137b11097c14435",
   "metadata": {
    "collapsed": false
   },
   "outputs": [],
   "source": [
    "for p in people:\n",
    "    for j in projects:\n",
    "        assignment_matrix[p][j] = sum(pulp_value(assignments[j][p][t]) for t in timeslots)"
   ]
  },
  {
   "cell_type": "markdown",
   "id": "a1de5dc4b49cac65",
   "metadata": {
    "collapsed": false
   },
   "source": [
    "### Print out the distribution of total timeslots, if optimization was used"
   ]
  },
  {
   "cell_type": "code",
   "execution_count": 19,
   "id": "53a6ce4d28c4be3b",
   "metadata": {
    "collapsed": false
   },
   "outputs": [
    {
     "data": {
      "text/html": [
       "<div>\n",
       "<style scoped>\n",
       "    .dataframe tbody tr th:only-of-type {\n",
       "        vertical-align: middle;\n",
       "    }\n",
       "\n",
       "    .dataframe tbody tr th {\n",
       "        vertical-align: top;\n",
       "    }\n",
       "\n",
       "    .dataframe thead th {\n",
       "        text-align: right;\n",
       "    }\n",
       "</style>\n",
       "<table border=\"1\" class=\"dataframe\">\n",
       "  <thead>\n",
       "    <tr style=\"text-align: right;\">\n",
       "      <th></th>\n",
       "      <th>P1</th>\n",
       "      <th>P2</th>\n",
       "    </tr>\n",
       "  </thead>\n",
       "  <tbody>\n",
       "    <tr>\n",
       "      <th>Proj1</th>\n",
       "      <td>0.0</td>\n",
       "      <td>2.0</td>\n",
       "    </tr>\n",
       "    <tr>\n",
       "      <th>Proj2</th>\n",
       "      <td>3.0</td>\n",
       "      <td>2.0</td>\n",
       "    </tr>\n",
       "    <tr>\n",
       "      <th>Proj3</th>\n",
       "      <td>1.0</td>\n",
       "      <td>0.0</td>\n",
       "    </tr>\n",
       "  </tbody>\n",
       "</table>\n",
       "</div>"
      ],
      "text/plain": [
       "        P1   P2\n",
       "Proj1  0.0  2.0\n",
       "Proj2  3.0  2.0\n",
       "Proj3  1.0  0.0"
      ]
     },
     "execution_count": 19,
     "metadata": {},
     "output_type": "execute_result"
    }
   ],
   "source": [
    "import pandas as pd\n",
    "\n",
    "df = pd.DataFrame(assignment_matrix)\n",
    "df"
   ]
  },
  {
   "cell_type": "markdown",
   "id": "66a93ca821945bd4",
   "metadata": {
    "collapsed": false
   },
   "source": [
    "### Print checks to confirm that the requirements were met"
   ]
  },
  {
   "cell_type": "code",
   "execution_count": 20,
   "id": "5df85a8bd49b7db0",
   "metadata": {
    "collapsed": false
   },
   "outputs": [
    {
     "name": "stdout",
     "output_type": "stream",
     "text": [
      "All projects are staffed: True\n",
      "Time slot between 0 and 3: True\n"
     ]
    }
   ],
   "source": [
    "print(\"All projects are staffed: \" + str(all(df.loc[project].sum() == projects_requirements[project] for project in projects)))\n",
    "print(\"Time slot between 0 and 3: \" + str(all(df.isin(timeslots))))"
   ]
  },
  {
   "cell_type": "markdown",
   "id": "586ca7db678a5b43",
   "metadata": {},
   "source": [
    "## Quantum Approach <a id=\"quantum-approach\"></a>"
   ]
  },
  {
   "cell_type": "markdown",
   "id": "29171b1739de1aee",
   "metadata": {},
   "source": [
    "### Suppress warnings for deprecation so the output is cleaner."
   ]
  },
  {
   "cell_type": "code",
   "execution_count": 21,
   "id": "c0cfcb978df73212",
   "metadata": {},
   "outputs": [],
   "source": [
    "import warnings\n",
    "\n",
    "warnings.filterwarnings('ignore')"
   ]
  },
  {
   "cell_type": "markdown",
   "id": "cfb786592bcb354c",
   "metadata": {},
   "source": [
    "### Import required libraries"
   ]
  },
  {
   "cell_type": "code",
   "execution_count": 22,
   "id": "dcb9feb8",
   "metadata": {},
   "outputs": [],
   "source": [
    "import matplotlib.pyplot as plt\n",
    "import numpy as np\n",
    "import pylab\n",
    "from qiskit.circuit.library import TwoLocal\n",
    "from qiskit.primitives import Estimator\n",
    "from qiskit.quantum_info import SparsePauliOp, Statevector\n",
    "from qiskit_algorithms import VQE\n",
    "from qiskit_algorithms.optimizers import COBYLA\n",
    "from qiskit_algorithms.utils import algorithm_globals"
   ]
  },
  {
   "cell_type": "markdown",
   "id": "57095c142822c672",
   "metadata": {},
   "source": [
    "#### Define the encoding for the problem"
   ]
  },
  {
   "cell_type": "code",
   "execution_count": 23,
   "id": "3df19563",
   "metadata": {},
   "outputs": [],
   "source": [
    "#For the encoding, we need:\n",
    "NUM_WORKERS = 2\n",
    "NUM_PROJECTS = 3\n",
    "NUM_DIGITS = 2\n",
    "\n",
    "NUM_QUIBITS = NUM_DIGITS * NUM_WORKERS * NUM_PROJECTS\n",
    "\n",
    "\n",
    "#Encoding of digits is person_id|project_id|quantity\n",
    "def multi_base(worker, project, digit):\n",
    "    return worker * NUM_DIGITS * NUM_PROJECTS + project * NUM_DIGITS + digit\n",
    "\n",
    "\n",
    "def decode_multi_base(index):\n",
    "    digit = index % (NUM_DIGITS)\n",
    "    index = index - digit\n",
    "    index = int(index / (NUM_DIGITS))\n",
    "    project = index % NUM_PROJECTS\n",
    "    index = index - project\n",
    "    index = int(index / NUM_PROJECTS)\n",
    "    worker = index\n",
    "    return [worker, project, digit]"
   ]
  },
  {
   "cell_type": "markdown",
   "id": "5eaee7111418d4c7",
   "metadata": {},
   "source": [
    "#### Test the encoding "
   ]
  },
  {
   "cell_type": "code",
   "execution_count": 24,
   "id": "f965bf602e111c92",
   "metadata": {},
   "outputs": [],
   "source": [
    "def unit_test_exhaustive():\n",
    "    for i in range(NUM_DIGITS * NUM_WORKERS * NUM_PROJECTS):\n",
    "        [a,b,c]=decode_multi_base(i)\n",
    "        print(i, decode_multi_base(i), multi_base(a,b,c))\n",
    "        if i != multi_base(a,b,c):\n",
    "            return -1\n",
    "    return 0\n",
    "\n",
    "\n",
    "unit_test_exhaustive()"
   ]
  },
  {
   "cell_type": "markdown",
   "id": "e9bd8eceb8005b3a",
   "metadata": {},
   "source": [
    "### Define the cost function"
   ]
  },
  {
   "cell_type": "code",
   "execution_count": 25,
   "id": "10900e04",
   "metadata": {},
   "outputs": [],
   "source": [
    "#Now generate the cost function. Let's start with all projects are manned first\n",
    "\n",
    "\n",
    "def gen_cost_funct(project_hours):\n",
    "    #mu = sum(project_hours)/NUM_WORKERS\n",
    "    #print(mu)\n",
    "    #Let us start with constraint: All projects should be manned\n",
    "    #Sum_{ik} x_{ijk}*2**k = project_hours(j) for all j\n",
    "    #Sum_j   (sum_ik.... - project_hours(j))^2 :::: double indices i, ii, k, kk\n",
    "    H_list = []\n",
    "    for j in range(NUM_PROJECTS):\n",
    "        #print('Quadratic term for project ', j)\n",
    "        for i in range(NUM_WORKERS):\n",
    "            for ii in range(NUM_WORKERS):\n",
    "                for k in range(NUM_DIGITS):\n",
    "                    for kk in range(NUM_DIGITS):\n",
    "                        #print('Pair of qubits', multi_base(i,j,k), ' and ', multi_base(ii,j,kk), ' Coeff: ', 2**(k+kk))\n",
    "                        op_0 = \"I\"*NUM_WORKERS*NUM_PROJECTS*NUM_DIGITS\n",
    "                        #Let's convert the ketbra 11 and ketbra 00 to I and Z with the correct sign:\n",
    "                        if multi_base(i,j,k)!=multi_base(ii,j,kk):\n",
    "                            a = multi_base(i,j,k)\n",
    "                            b = multi_base(ii,j,kk)\n",
    "                            op_II = op_0\n",
    "                            op_IZ = op_0\n",
    "                            op_IZ = op_IZ[:b] + \"Z\" + op_IZ[b+1:]\n",
    "                            #print(op_IZ,b)\n",
    "                            op_ZI = op_0\n",
    "                            op_ZI = op_ZI[:a] + \"Z\" + op_ZI[a+1:]\n",
    "                            #print(op_ZI,b)\n",
    "                            op_ZZ = op_0\n",
    "                            op_ZZ = op_ZZ[:a] + \"Z\" + op_ZZ[a+1:]\n",
    "                            op_ZZ = op_ZZ[:b] + \"Z\" + op_ZZ[b+1:]\n",
    "                            #print(op_ZZ,a,b)\n",
    "                            #Proj_1 = (I - Z)/2\n",
    "                            H_list.append( (op_II,2**(k+kk)*(1/4)) )\n",
    "                            H_list.append( (op_IZ,-2**(k+kk)*(1/4)) )\n",
    "                            H_list.append( (op_ZI,-2**(k+kk)*(1/4)) )\n",
    "                            H_list.append( (op_ZZ,2**(k+kk)*(1/4)) )\n",
    "                        else:\n",
    "                            #Proj_1 = (I - Z)/2 on qubit a\n",
    "                            a = multi_base(i,j,k)\n",
    "                            op_I = op_0\n",
    "                            op_Z = op_0\n",
    "                            op_Z = op_Z[:a] + \"Z\" + op_Z[a+1:]\n",
    "                            H_list.append( (op_I,2**(k+k)*(1/2)) )\n",
    "                            H_list.append( (op_Z,-2**(k+k)*(1/2)) )\n",
    "        #print('Linear term for project j')\n",
    "        for i in range(NUM_WORKERS):\n",
    "            for k in range(NUM_DIGITS):\n",
    "                #print(f'Qubit {multi_base(i,j,k)}. Coeff: {project_hours[j]*2**k}')\n",
    "                a = multi_base(i,j,k)\n",
    "                op_0 = \"I\"*NUM_WORKERS*NUM_PROJECTS*NUM_DIGITS\n",
    "                op_I = op_0\n",
    "                op_Z = op_0\n",
    "                op_Z = op_Z[:a] + \"Z\" + op_Z[a+1:]\n",
    "                H_list.append( (op_I,-2*project_hours[j]*2**(k)*(1/2)) )\n",
    "                H_list.append( (op_Z,2*project_hours[j]*2**(k)*(1/2)) )\n",
    "        #print('Constant term for project j (does not matter)')\n",
    "        op_0 = \"I\"*NUM_WORKERS*NUM_PROJECTS*NUM_DIGITS\n",
    "        H_list.append((op_0, project_hours[j]**2))\n",
    "    return H_list\n",
    "\n",
    "\n",
    "hamilt_terms = gen_cost_funct([1,3,2])"
   ]
  },
  {
   "cell_type": "markdown",
   "id": "7a6b3031082df6b4",
   "metadata": {},
   "source": [
    "#### Visually validate the output of the cost function"
   ]
  },
  {
   "cell_type": "code",
   "execution_count": 26,
   "id": "35c04297",
   "metadata": {},
   "outputs": [],
   "source": [
    "gen_cost_funct([1,3,2])"
   ]
  },
  {
   "cell_type": "markdown",
   "id": "12895f852217b858",
   "metadata": {},
   "source": [
    "### Define the circuit and train"
   ]
  },
  {
   "cell_type": "code",
   "execution_count": 27,
   "id": "cd9b645f",
   "metadata": {},
   "outputs": [
    {
     "name": "stdout",
     "output_type": "stream",
     "text": [
      "Optimization complete      \n"
     ]
    }
   ],
   "source": [
    "# VQE Optimization Script Documentation\n",
    "#      Hamiltonian Construction:\n",
    "#    - Define two sparse Pauli operators H1 and H2.\n",
    "#    - H1 represents a sum of Pauli terms with corresponding coefficients.\n",
    "#    - H2 represents another sum of Pauli terms with coefficients.\n",
    "#    Example:\n",
    "\n",
    "#H1 = SparsePauliOp.from_list([(\"III\", 1/4),(\"ZII\",1/4),(\"IZI\",-1/4),(\"ZZI\",-1/4)])\n",
    "#H2 = SparsePauliOp.from_list([(\"III\", 1/4),(\"IZI\",1/4),(\"IIZ\",1/4),(\"IZZ\",1/4)])\n",
    "#h_op = H1+H2\n",
    "\n",
    "\n",
    "h_op = SparsePauliOp.from_list(hamilt_terms)\n",
    "\n",
    "\n",
    "# Estimator Initialization:\n",
    "#    - Create an instance of the Estimator class.\n",
    "estimator = Estimator()\n",
    "\n",
    "# Choice to iterate over different optimizers\n",
    "# List of optimizers: https://docs.quantum.ibm.com/api/qiskit/0.28/qiskit.algorithms.optimizers\n",
    "# Guide to the list: https://medium.com/qiskit/a-guide-to-the-qiskit-circuit-library-36ee0f189956\n",
    "\n",
    "\n",
    "optimizers = [COBYLA(maxiter=1000)]\n",
    "# Store intermediate optimization results (evaluation counts and corresponding values).\n",
    "converge_counts = np.empty([len(optimizers)], dtype=object)\n",
    "converge_vals = np.empty([len(optimizers)], dtype=object)\n",
    "\n",
    "for i, optimizer in enumerate(optimizers):\n",
    "    print(\"\\rOptimizer: {}        \".format(type(optimizer).__name__), end=\"\")\n",
    "    \n",
    "    # Set a random seed for reproducibility\n",
    "    algorithm_globals.random_seed = 42\n",
    "\n",
    "    # Choose an ansatz (parameterized quantum circuit) for the variational form.\n",
    "    # List of circuits https://docs.quantum.ibm.com/api/qiskit/circuit_library\n",
    "    ansatz = TwoLocal(rotation_blocks=\"ry\", entanglement_blocks=\"cz\",reps=1) \n",
    "\n",
    "    counts = []\n",
    "    values = []\n",
    "\n",
    "    def store_intermediate_result(eval_count, parameters, mean, std):\n",
    "        counts.append(eval_count)\n",
    "        values.append(mean)\n",
    "\n",
    "    # Define a VQE instance with the chosen optimizer and ansatz\n",
    "    vqe = VQE(estimator, ansatz, optimizer, callback=store_intermediate_result)\n",
    "    \n",
    "    # Run VQE to compute the minimum eigenvalue of the Hamiltonian\n",
    "    result = vqe.compute_minimum_eigenvalue(operator=h_op)\n",
    "\n",
    "    # Store optimization results for the current optimizer\n",
    "    converge_counts[i] = np.asarray(counts)\n",
    "    converge_vals[i] = np.asarray(values)\n",
    "\n",
    "print(\"\\rOptimization complete      \");"
   ]
  },
  {
   "cell_type": "code",
   "execution_count": 28,
   "id": "79bb4544",
   "metadata": {},
   "outputs": [
    {
     "name": "stdout",
     "output_type": "stream",
     "text": [
      "       ┌──────────┐                                                            »\n",
      " q_0: ─┤ Ry(θ[0]) ├─■──■─────■─────■────────■────────■───────────■───────────■─»\n",
      "       ├──────────┤ │  │     │     │        │        │           │           │ »\n",
      " q_1: ─┤ Ry(θ[1]) ├─■──┼──■──┼──■──┼─────■──┼─────■──┼────────■──┼────────■──┼─»\n",
      "       ├──────────┤    │  │  │  │  │     │  │     │  │        │  │        │  │ »\n",
      " q_2: ─┤ Ry(θ[2]) ├────■──■──┼──┼──┼──■──┼──┼──■──┼──┼─────■──┼──┼─────■──┼──┼─»\n",
      "       ├──────────┤          │  │  │  │  │  │  │  │  │     │  │  │     │  │  │ »\n",
      " q_3: ─┤ Ry(θ[3]) ├──────────■──■──┼──■──┼──┼──┼──┼──┼──■──┼──┼──┼──■──┼──┼──┼─»\n",
      "       ├──────────┤                │     │  │  │  │  │  │  │  │  │  │  │  │  │ »\n",
      " q_4: ─┤ Ry(θ[4]) ├────────────────■─────■──┼──■──┼──┼──■──┼──┼──┼──┼──┼──┼──┼─»\n",
      "       ├──────────┤                         │     │  │     │  │  │  │  │  │  │ »\n",
      " q_5: ─┤ Ry(θ[5]) ├─────────────────────────■─────■──┼─────■──┼──┼──■──┼──┼──┼─»\n",
      "       ├──────────┤                                  │        │  │     │  │  │ »\n",
      " q_6: ─┤ Ry(θ[6]) ├──────────────────────────────────■────────■──┼─────■──┼──┼─»\n",
      "       ├──────────┤                                              │        │  │ »\n",
      " q_7: ─┤ Ry(θ[7]) ├──────────────────────────────────────────────■────────■──┼─»\n",
      "       ├──────────┤                                                          │ »\n",
      " q_8: ─┤ Ry(θ[8]) ├──────────────────────────────────────────────────────────■─»\n",
      "       ├──────────┤                                                            »\n",
      " q_9: ─┤ Ry(θ[9]) ├────────────────────────────────────────────────────────────»\n",
      "      ┌┴──────────┤                                                            »\n",
      "q_10: ┤ Ry(θ[10]) ├────────────────────────────────────────────────────────────»\n",
      "      ├───────────┤                                                            »\n",
      "q_11: ┤ Ry(θ[11]) ├────────────────────────────────────────────────────────────»\n",
      "      └───────────┘                                                            »\n",
      "«                                                      ┌───────────┐         »\n",
      "« q_0: ─────────────■──────────────■─────────────────■─┤ Ry(θ[12]) ├─────────»\n",
      "«                   │              │                 │ └───────────┘         »\n",
      "« q_1: ──────────■──┼───────────■──┼──────────────■──┼───────────────────────»\n",
      "«                │  │           │  │              │  │                       »\n",
      "« q_2: ───────■──┼──┼────────■──┼──┼───────────■──┼──┼─────────────────────■─»\n",
      "«             │  │  │        │  │  │           │  │  │                     │ »\n",
      "« q_3: ────■──┼──┼──┼─────■──┼──┼──┼────────■──┼──┼──┼──────────────────■──┼─»\n",
      "«          │  │  │  │     │  │  │  │        │  │  │  │                  │  │ »\n",
      "« q_4: ─■──┼──┼──┼──┼──■──┼──┼──┼──┼─────■──┼──┼──┼──┼───────────────■──┼──┼─»\n",
      "«       │  │  │  │  │  │  │  │  │  │     │  │  │  │  │               │  │  │ »\n",
      "« q_5: ─■──┼──┼──┼──┼──┼──┼──┼──┼──┼──■──┼──┼──┼──┼──┼───────■───────┼──┼──┼─»\n",
      "«          │  │  │  │  │  │  │  │  │  │  │  │  │  │  │       │       │  │  │ »\n",
      "« q_6: ────■──┼──┼──┼──■──┼──┼──┼──┼──■──┼──┼──┼──┼──┼───────┼───────┼──┼──┼─»\n",
      "«             │  │  │     │  │  │  │     │  │  │  │  │       │       │  │  │ »\n",
      "« q_7: ───────■──┼──┼─────■──┼──┼──┼─────■──┼──┼──┼──┼───────■───────┼──┼──┼─»\n",
      "«                │  │        │  │  │        │  │  │  │               │  │  │ »\n",
      "« q_8: ──────────■──┼────────■──┼──┼────────■──┼──┼──┼───────────────■──┼──┼─»\n",
      "«                   │           │  │           │  │  │                  │  │ »\n",
      "« q_9: ─────────────■───────────■──┼───────────■──┼──┼──────────────────■──┼─»\n",
      "«                                  │              │  │                     │ »\n",
      "«q_10: ────────────────────────────■──────────────■──┼─────────────────────■─»\n",
      "«                                                    │                       »\n",
      "«q_11: ──────────────────────────────────────────────■───────────────────────»\n",
      "«                                                                            »\n",
      "«                                                                              »\n",
      "« q_0: ────────────────────────────────────────────────────────────────────────»\n",
      "«         ┌───────────┐                                                        »\n",
      "« q_1: ─■─┤ Ry(θ[13]) ├────────────────────────────────────────────────────────»\n",
      "«       │ └───────────┘            ┌───────────┐                               »\n",
      "« q_2: ─┼────────────────────────■─┤ Ry(θ[14]) ├───────────────────────────────»\n",
      "«       │                        │ └───────────┘         ┌───────────┐         »\n",
      "« q_3: ─┼─────────────────────■──┼─────────────────────■─┤ Ry(θ[15]) ├─────────»\n",
      "«       │                     │  │                     │ └───────────┘         »\n",
      "« q_4: ─┼──────────────────■──┼──┼──────────────────■──┼─────────────────────■─»\n",
      "«       │                  │  │  │                  │  │                     │ »\n",
      "« q_5: ─┼───────────────■──┼──┼──┼───────────────■──┼──┼──────────────────■──┼─»\n",
      "«       │               │  │  │  │               │  │  │                  │  │ »\n",
      "« q_6: ─┼───────■───────┼──┼──┼──┼───────■───────┼──┼──┼───────────────■──┼──┼─»\n",
      "«       │       │       │  │  │  │       │       │  │  │               │  │  │ »\n",
      "« q_7: ─┼───────■───────┼──┼──┼──┼───────┼───────┼──┼──┼───────■───────┼──┼──┼─»\n",
      "«       │               │  │  │  │       │       │  │  │       │       │  │  │ »\n",
      "« q_8: ─┼───────────────■──┼──┼──┼───────■───────┼──┼──┼───────■───────┼──┼──┼─»\n",
      "«       │                  │  │  │               │  │  │               │  │  │ »\n",
      "« q_9: ─┼──────────────────■──┼──┼───────────────■──┼──┼───────────────■──┼──┼─»\n",
      "«       │                     │  │                  │  │                  │  │ »\n",
      "«q_10: ─┼─────────────────────■──┼──────────────────■──┼──────────────────■──┼─»\n",
      "«       │                        │                     │                     │ »\n",
      "«q_11: ─■────────────────────────■─────────────────────■─────────────────────■─»\n",
      "«                                                                              »\n",
      "«                                                                            »\n",
      "« q_0: ──────────────────────────────────────────────────────────────────────»\n",
      "«                                                                            »\n",
      "« q_1: ──────────────────────────────────────────────────────────────────────»\n",
      "«                                                                            »\n",
      "« q_2: ──────────────────────────────────────────────────────────────────────»\n",
      "«                                                                            »\n",
      "« q_3: ──────────────────────────────────────────────────────────────────────»\n",
      "«      ┌───────────┐                                                         »\n",
      "« q_4: ┤ Ry(θ[16]) ├─────────────────────────────────────────────────────────»\n",
      "«      └───────────┘      ┌───────────┐                                      »\n",
      "« q_5: ─────────────────■─┤ Ry(θ[17]) ├──────────────────────────────────────»\n",
      "«                       │ └───────────┘      ┌───────────┐                   »\n",
      "« q_6: ──────────────■──┼──────────────────■─┤ Ry(θ[18]) ├───────────────────»\n",
      "«                    │  │                  │ └───────────┘   ┌───────────┐   »\n",
      "« q_7: ──────■───────┼──┼───────────────■──┼───────────────■─┤ Ry(θ[19]) ├───»\n",
      "«            │       │  │               │  │               │ └───────────┘   »\n",
      "« q_8: ──────┼───────┼──┼───────■───────┼──┼───────■───────┼───────────────■─»\n",
      "«            │       │  │       │       │  │       │       │               │ »\n",
      "« q_9: ──────■───────┼──┼───────■───────┼──┼───────┼───────┼───────■───────┼─»\n",
      "«                    │  │               │  │       │       │       │       │ »\n",
      "«q_10: ──────────────■──┼───────────────■──┼───────■───────┼───────■───────┼─»\n",
      "«                       │                  │               │               │ »\n",
      "«q_11: ─────────────────■──────────────────■───────────────■───────────────■─»\n",
      "«                                                                            »\n",
      "«                                             \n",
      "« q_0: ───────────────────────────────────────\n",
      "«                                             \n",
      "« q_1: ───────────────────────────────────────\n",
      "«                                             \n",
      "« q_2: ───────────────────────────────────────\n",
      "«                                             \n",
      "« q_3: ───────────────────────────────────────\n",
      "«                                             \n",
      "« q_4: ───────────────────────────────────────\n",
      "«                                             \n",
      "« q_5: ───────────────────────────────────────\n",
      "«                                             \n",
      "« q_6: ───────────────────────────────────────\n",
      "«                                             \n",
      "« q_7: ───────────────────────────────────────\n",
      "«      ┌───────────┐                          \n",
      "« q_8: ┤ Ry(θ[20]) ├──────────────────────────\n",
      "«      └───────────┘┌───────────┐             \n",
      "« q_9: ──────■──────┤ Ry(θ[21]) ├─────────────\n",
      "«            │      └───────────┘┌───────────┐\n",
      "«q_10: ──────┼────────────■──────┤ Ry(θ[22]) ├\n",
      "«            │            │      ├───────────┤\n",
      "«q_11: ──────■────────────■──────┤ Ry(θ[23]) ├\n",
      "«                                └───────────┘\n"
     ]
    }
   ],
   "source": [
    "# Visualize the chosen ansatz\n",
    "# This ansatz contains layers of Ry rotations and entangling cz gates.\n",
    "# The parameters theta[0],...,theta[11] are tuned in training\n",
    "# The goal of the optimizer is to find a configuration of parameters \n",
    "# that result in a high probability of measuring a state which satisfies our problem.\n",
    "\n",
    "print(ansatz.decompose())"
   ]
  },
  {
   "cell_type": "markdown",
   "id": "d46a7a0fd5a5e149",
   "metadata": {},
   "source": [
    "### Plot the progress of the training"
   ]
  },
  {
   "cell_type": "code",
   "execution_count": 29,
   "id": "d98364f7",
   "metadata": {},
   "outputs": [
    {
     "data": {
      "image/png": "[encoded data removed]",
      "text/plain": [
       "<Figure size 1200x800 with 1 Axes>"
      ]
     },
     "metadata": {},
     "output_type": "display_data"
    }
   ],
   "source": [
    "pylab.rcParams[\"figure.figsize\"] = (12, 8)\n",
    "for i, optimizer in enumerate(optimizers):\n",
    "    pylab.plot(converge_counts[i], converge_vals[i], label=type(optimizer).__name__)\n",
    "pylab.xlabel(\"Eval count\")\n",
    "pylab.ylabel(\"Energy\")\n",
    "pylab.title(\"Energy convergence for various optimizers\")\n",
    "pylab.legend(loc=\"upper right\");"
   ]
  },
  {
   "cell_type": "code",
   "execution_count": 30,
   "id": "9a1f4141",
   "metadata": {},
   "outputs": [
    {
     "data": {
      "text/plain": [
       "Text(0.5, 0, 'State Index')"
      ]
     },
     "execution_count": 30,
     "metadata": {},
     "output_type": "execute_result"
    },
    {
     "data": {
      "image/png": "[encoded data removed]",
      "text/plain": [
       "<Figure size 1200x800 with 1 Axes>"
      ]
     },
     "metadata": {},
     "output_type": "display_data"
    }
   ],
   "source": [
    "# Visualize the probabilities to obtain certain states given the optimal parameters\n",
    "\n",
    "ansatz_plot = ansatz.assign_parameters(result.optimal_parameters)\n",
    "state = Statevector(ansatz_plot)\n",
    "plt.bar(np.arange(len(state)),(state.data**2).real)\n",
    "#plt.xticks(np.arange(2**(NUM_PROJECTS*NUM_WORKERS*NUM_DIGITS)))# ,[\"|000>\",\"|001>\",\"|010>\",\"|011>\",\"|100>\",\"|101>\",\"|110>\",\"|111>\"])\n",
    "\n",
    "for i, value in enumerate((state.data**2).real):\n",
    "    plt.plot(i, value, marker='o', markersize=2, color='red')\n",
    "\n",
    "plt.ylabel(\"Probability to measure state\")\n",
    "plt.xlabel(\"State Index\")"
   ]
  },
  {
   "cell_type": "code",
   "execution_count": 31,
   "id": "0bec7f22",
   "metadata": {},
   "outputs": [],
   "source": [
    "def map_bitstring_to_matrix(res):\n",
    "    binary_digits = bin(res)[2:]\n",
    "    binary_digits = binary_digits.zfill(NUM_WORKERS*NUM_PROJECTS*NUM_DIGITS)\n",
    "    print(binary_digits)\n",
    "    res = [[0 for i in range(NUM_PROJECTS)] for j in range(NUM_WORKERS)]\n",
    "    print(res)\n",
    "    for i in range(NUM_WORKERS):\n",
    "        for j in range(NUM_PROJECTS):\n",
    "            for k in range(NUM_DIGITS):\n",
    "                print((i,j,k),multi_base(i,j,k),binary_digits[multi_base(i,j,k)])\n",
    "                res[i][j] = res[i][j] + int(binary_digits[multi_base(i,j,k)])*2**k\n",
    "    return res\n",
    "\n",
    "\n",
    "result_bit = map_bitstring_to_matrix(297)\n",
    "# import pandas as pd\n",
    "\n",
    "# df = pd.DataFrame(result_bit)\n",
    "# print(df)"
   ]
  },
  {
   "cell_type": "code",
   "execution_count": 32,
   "id": "f4b20b8f",
   "metadata": {},
   "outputs": [],
   "source": [
    "# np.argsort(state.data**2)[::-1]"
   ]
  },
  {
   "cell_type": "code",
   "execution_count": 33,
   "id": "33f074f4",
   "metadata": {},
   "outputs": [],
   "source": [
    "# (state.data**2)[2694]"
   ]
  },
  {
   "cell_type": "code",
   "execution_count": 34,
   "id": "73e8c27b",
   "metadata": {},
   "outputs": [],
   "source": [
    "# np.sort(state.data**2)[::-1]"
   ]
  },
  {
   "cell_type": "markdown",
   "id": "3021cb85ff56708",
   "metadata": {},
   "source": [
    "### Create the bound circuit to be used for all remote backend providers."
   ]
  },
  {
   "cell_type": "code",
   "execution_count": 35,
   "id": "df3f1a52",
   "metadata": {},
   "outputs": [
    {
     "data": {
      "text/html": [
       "<pre style=\"word-wrap: normal;white-space: pre;background: #fff0;line-height: 1.1;font-family: &quot;Courier New&quot;,Courier,monospace\">            ┌────────────┐                                                     »\n",
       "    q_0: ───┤ Ry(3.1416) ├───■──■─────■─────■────────■────────■───────────■────»\n",
       "          ┌─┴────────────┴─┐ │  │     │     │        │        │           │    »\n",
       "    q_1: ─┤ Ry(2.7164e-06) ├─■──┼──■──┼──■──┼─────■──┼─────■──┼────────■──┼────»\n",
       "          └─┬────────────┬─┘    │  │  │  │  │     │  │     │  │        │  │    »\n",
       "    q_2: ───┤ Ry(3.1416) ├──────■──■──┼──┼──┼──■──┼──┼──■──┼──┼─────■──┼──┼────»\n",
       "            ├────────────┤            │  │  │  │  │  │  │  │  │     │  │  │    »\n",
       "    q_3: ───┤ Ry(3.1416) ├────────────■──■──┼──■──┼──┼──┼──┼──┼──■──┼──┼──┼──■─»\n",
       "           ┌┴────────────┤                  │     │  │  │  │  │  │  │  │  │  │ »\n",
       "    q_4: ──┤ Ry(-6.2832) ├──────────────────■─────■──┼──■──┼──┼──■──┼──┼──┼──┼─»\n",
       "           └┬────────────┤                           │     │  │     │  │  │  │ »\n",
       "    q_5: ───┤ Ry(5.8334) ├───────────────────────────■─────■──┼─────■──┼──┼──■─»\n",
       "            ├────────────┤                                    │        │  │    »\n",
       "    q_6: ───┤ Ry(3.1416) ├────────────────────────────────────■────────■──┼────»\n",
       "            ├────────────┤                                                │    »\n",
       "    q_7: ───┤ Ry(3.1415) ├────────────────────────────────────────────────■────»\n",
       "           ┌┴────────────┤                                                     »\n",
       "    q_8: ──┤ Ry(-3.1416) ├─────────────────────────────────────────────────────»\n",
       "          ┌┴─────────────┴─┐                                                   »\n",
       "    q_9: ─┤ Ry(1.4919e-05) ├───────────────────────────────────────────────────»\n",
       "         ┌┴────────────────┤                                                   »\n",
       "   q_10: ┤ Ry(-5.3171e-05) ├───────────────────────────────────────────────────»\n",
       "         └──┬────────────┬─┘                                                   »\n",
       "   q_11: ───┤ Ry(4.4807) ├─────────────────────────────────────────────────────»\n",
       "            └────────────┘                                                     »\n",
       "meas: 12/══════════════════════════════════════════════════════════════════════»\n",
       "                                                                               »\n",
       "«                                                                  »\n",
       "«    q_0: ───────■──────────────■──────────────■─────────────────■─»\n",
       "«                │              │              │                 │ »\n",
       "«    q_1: ────■──┼───────────■──┼───────────■──┼──────────────■──┼─»\n",
       "«             │  │           │  │           │  │              │  │ »\n",
       "«    q_2: ─■──┼──┼────────■──┼──┼────────■──┼──┼───────────■──┼──┼─»\n",
       "«          │  │  │        │  │  │        │  │  │           │  │  │ »\n",
       "«    q_3: ─┼──┼──┼─────■──┼──┼──┼─────■──┼──┼──┼────────■──┼──┼──┼─»\n",
       "«          │  │  │     │  │  │  │     │  │  │  │        │  │  │  │ »\n",
       "«    q_4: ─┼──┼──┼──■──┼──┼──┼──┼──■──┼──┼──┼──┼─────■──┼──┼──┼──┼─»\n",
       "«          │  │  │  │  │  │  │  │  │  │  │  │  │     │  │  │  │  │ »\n",
       "«    q_5: ─┼──┼──┼──■──┼──┼──┼──┼──┼──┼──┼──┼──┼──■──┼──┼──┼──┼──┼─»\n",
       "«          │  │  │     │  │  │  │  │  │  │  │  │  │  │  │  │  │  │ »\n",
       "«    q_6: ─■──┼──┼─────■──┼──┼──┼──■──┼──┼──┼──┼──■──┼──┼──┼──┼──┼─»\n",
       "«             │  │        │  │  │     │  │  │  │     │  │  │  │  │ »\n",
       "«    q_7: ────■──┼────────■──┼──┼─────■──┼──┼──┼─────■──┼──┼──┼──┼─»\n",
       "«                │           │  │        │  │  │        │  │  │  │ »\n",
       "«    q_8: ───────■───────────■──┼────────■──┼──┼────────■──┼──┼──┼─»\n",
       "«                               │           │  │           │  │  │ »\n",
       "«    q_9: ──────────────────────■───────────■──┼───────────■──┼──┼─»\n",
       "«                                              │              │  │ »\n",
       "«   q_10: ─────────────────────────────────────■──────────────■──┼─»\n",
       "«                                                                │ »\n",
       "«   q_11: ───────────────────────────────────────────────────────■─»\n",
       "«                                                                  »\n",
       "«meas: 12/═════════════════════════════════════════════════════════»\n",
       "«                                                                  »\n",
       "«         ┌────────────┐                                      »\n",
       "«    q_0: ┤ Ry(3.1416) ├──────────────────────────────────────»\n",
       "«         └────────────┘            ┌────────────┐            »\n",
       "«    q_1: ────────────────────────■─┤ Ry(3.1416) ├────────────»\n",
       "«                                 │ └────────────┘            »\n",
       "«    q_2: ─────────────────────■──┼─────────────────────────■─»\n",
       "«                              │  │                         │ »\n",
       "«    q_3: ──────────────────■──┼──┼──────────────────────■──┼─»\n",
       "«                           │  │  │                      │  │ »\n",
       "«    q_4: ───────────────■──┼──┼──┼───────────────────■──┼──┼─»\n",
       "«                        │  │  │  │                   │  │  │ »\n",
       "«    q_5: ──────■────────┼──┼──┼──┼────────────────■──┼──┼──┼─»\n",
       "«               │        │  │  │  │                │  │  │  │ »\n",
       "«    q_6: ──────┼────────┼──┼──┼──┼───────■────────┼──┼──┼──┼─»\n",
       "«               │        │  │  │  │       │        │  │  │  │ »\n",
       "«    q_7: ──────■────────┼──┼──┼──┼───────■────────┼──┼──┼──┼─»\n",
       "«                        │  │  │  │                │  │  │  │ »\n",
       "«    q_8: ───────────────■──┼──┼──┼────────────────■──┼──┼──┼─»\n",
       "«                           │  │  │                   │  │  │ »\n",
       "«    q_9: ──────────────────■──┼──┼───────────────────■──┼──┼─»\n",
       "«                              │  │                      │  │ »\n",
       "«   q_10: ─────────────────────■──┼──────────────────────■──┼─»\n",
       "«                                 │                         │ »\n",
       "«   q_11: ────────────────────────■─────────────────────────■─»\n",
       "«                                                             »\n",
       "«meas: 12/════════════════════════════════════════════════════»\n",
       "«                                                             »\n",
       "«                                                             »\n",
       "«    q_0: ────────────────────────────────────────────────────»\n",
       "«                                                             »\n",
       "«    q_1: ────────────────────────────────────────────────────»\n",
       "«         ┌─────────────────┐                                 »\n",
       "«    q_2: ┤ Ry(-2.2603e-05) ├─────────────────────────────────»\n",
       "«         └─────────────────┘         ┌─────────────┐         »\n",
       "«    q_3: ──────────────────────────■─┤ Ry(-3.1416) ├─────────»\n",
       "«                                   │ └─────────────┘         »\n",
       "«    q_4: ───────────────────────■──┼───────────────────────■─»\n",
       "«                                │  │                       │ »\n",
       "«    q_5: ────────────────────■──┼──┼────────────────────■──┼─»\n",
       "«                             │  │  │                    │  │ »\n",
       "«    q_6: ─────────■──────────┼──┼──┼─────────────────■──┼──┼─»\n",
       "«                  │          │  │  │                 │  │  │ »\n",
       "«    q_7: ─────────┼──────────┼──┼──┼────────■────────┼──┼──┼─»\n",
       "«                  │          │  │  │        │        │  │  │ »\n",
       "«    q_8: ─────────■──────────┼──┼──┼────────■────────┼──┼──┼─»\n",
       "«                             │  │  │                 │  │  │ »\n",
       "«    q_9: ────────────────────■──┼──┼─────────────────■──┼──┼─»\n",
       "«                                │  │                    │  │ »\n",
       "«   q_10: ───────────────────────■──┼────────────────────■──┼─»\n",
       "«                                   │                       │ »\n",
       "«   q_11: ──────────────────────────■───────────────────────■─»\n",
       "«                                                             »\n",
       "«meas: 12/════════════════════════════════════════════════════»\n",
       "«                                                             »\n",
       "«                                                                       »\n",
       "«    q_0: ──────────────────────────────────────────────────────────────»\n",
       "«                                                                       »\n",
       "«    q_1: ──────────────────────────────────────────────────────────────»\n",
       "«                                                                       »\n",
       "«    q_2: ──────────────────────────────────────────────────────────────»\n",
       "«                                                                       »\n",
       "«    q_3: ──────────────────────────────────────────────────────────────»\n",
       "«         ┌────────────────┐                                            »\n",
       "«    q_4: ┤ Ry(1.3446e-05) ├────────────────────────────────────────────»\n",
       "«         └────────────────┘      ┌─────────────┐                       »\n",
       "«    q_5: ──────────────────────■─┤ Ry(-6.3936) ├───────────────────────»\n",
       "«                               │ └─────────────┘      ┌────────────┐   »\n",
       "«    q_6: ───────────────────■──┼────────────────────■─┤ Ry(3.1417) ├───»\n",
       "«                            │  │                    │ └────────────┘   »\n",
       "«    q_7: ────────■──────────┼──┼─────────────────■──┼────────────────■─»\n",
       "«                 │          │  │                 │  │                │ »\n",
       "«    q_8: ────────┼──────────┼──┼────────■────────┼──┼───────■────────┼─»\n",
       "«                 │          │  │        │        │  │       │        │ »\n",
       "«    q_9: ────────■──────────┼──┼────────■────────┼──┼───────┼────────┼─»\n",
       "«                            │  │                 │  │       │        │ »\n",
       "«   q_10: ───────────────────■──┼─────────────────■──┼───────■────────┼─»\n",
       "«                               │                    │                │ »\n",
       "«   q_11: ──────────────────────■────────────────────■────────────────■─»\n",
       "«                                                                       »\n",
       "«meas: 12/══════════════════════════════════════════════════════════════»\n",
       "«                                                                       »\n",
       "«                                                                          ░ »\n",
       "«    q_0: ─────────────────────────────────────────────────────────────────░─»\n",
       "«                                                                          ░ »\n",
       "«    q_1: ─────────────────────────────────────────────────────────────────░─»\n",
       "«                                                                          ░ »\n",
       "«    q_2: ─────────────────────────────────────────────────────────────────░─»\n",
       "«                                                                          ░ »\n",
       "«    q_3: ─────────────────────────────────────────────────────────────────░─»\n",
       "«                                                                          ░ »\n",
       "«    q_4: ─────────────────────────────────────────────────────────────────░─»\n",
       "«                                                                          ░ »\n",
       "«    q_5: ─────────────────────────────────────────────────────────────────░─»\n",
       "«                                                                          ░ »\n",
       "«    q_6: ─────────────────────────────────────────────────────────────────░─»\n",
       "«         ┌────────────────┐                                               ░ »\n",
       "«    q_7: ┤ Ry(9.6586e-05) ├───────────────────────────────────────────────░─»\n",
       "«         └────────────────┘   ┌────────────┐                              ░ »\n",
       "«    q_8: ───────────────────■─┤ Ry(3.1416) ├──────────────────────────────░─»\n",
       "«                            │ └────────────┘┌─────────────┐               ░ »\n",
       "«    q_9: ────────■──────────┼───────■───────┤ Ry(-3.1415) ├───────────────░─»\n",
       "«                 │          │       │       └─────────────┘┌────────────┐ ░ »\n",
       "«   q_10: ────────■──────────┼───────┼──────────────■───────┤ Ry(6.2832) ├─░─»\n",
       "«                            │       │              │       ├────────────┤ ░ »\n",
       "«   q_11: ───────────────────■───────■──────────────■───────┤ Ry(4.9687) ├─░─»\n",
       "«                                                           └────────────┘ ░ »\n",
       "«meas: 12/═══════════════════════════════════════════════════════════════════»\n",
       "«                                                                            »\n",
       "«         ┌─┐                                 \n",
       "«    q_0: ┤M├─────────────────────────────────\n",
       "«         └╥┘┌─┐                              \n",
       "«    q_1: ─╫─┤M├──────────────────────────────\n",
       "«          ║ └╥┘┌─┐                           \n",
       "«    q_2: ─╫──╫─┤M├───────────────────────────\n",
       "«          ║  ║ └╥┘┌─┐                        \n",
       "«    q_3: ─╫──╫──╫─┤M├────────────────────────\n",
       "«          ║  ║  ║ └╥┘┌─┐                     \n",
       "«    q_4: ─╫──╫──╫──╫─┤M├─────────────────────\n",
       "«          ║  ║  ║  ║ └╥┘┌─┐                  \n",
       "«    q_5: ─╫──╫──╫──╫──╫─┤M├──────────────────\n",
       "«          ║  ║  ║  ║  ║ └╥┘┌─┐               \n",
       "«    q_6: ─╫──╫──╫──╫──╫──╫─┤M├───────────────\n",
       "«          ║  ║  ║  ║  ║  ║ └╥┘┌─┐            \n",
       "«    q_7: ─╫──╫──╫──╫──╫──╫──╫─┤M├────────────\n",
       "«          ║  ║  ║  ║  ║  ║  ║ └╥┘┌─┐         \n",
       "«    q_8: ─╫──╫──╫──╫──╫──╫──╫──╫─┤M├─────────\n",
       "«          ║  ║  ║  ║  ║  ║  ║  ║ └╥┘┌─┐      \n",
       "«    q_9: ─╫──╫──╫──╫──╫──╫──╫──╫──╫─┤M├──────\n",
       "«          ║  ║  ║  ║  ║  ║  ║  ║  ║ └╥┘┌─┐   \n",
       "«   q_10: ─╫──╫──╫──╫──╫──╫──╫──╫──╫──╫─┤M├───\n",
       "«          ║  ║  ║  ║  ║  ║  ║  ║  ║  ║ └╥┘┌─┐\n",
       "«   q_11: ─╫──╫──╫──╫──╫──╫──╫──╫──╫──╫──╫─┤M├\n",
       "«          ║  ║  ║  ║  ║  ║  ║  ║  ║  ║  ║ └╥┘\n",
       "«meas: 12/═╩══╩══╩══╩══╩══╩══╩══╩══╩══╩══╩══╩═\n",
       "«          0  1  2  3  4  5  6  7  8  9  10 11</pre>"
      ],
      "text/plain": [
       "            ┌────────────┐                                                     »\n",
       "    q_0: ───┤ Ry(3.1416) ├───■──■─────■─────■────────■────────■───────────■────»\n",
       "          ┌─┴────────────┴─┐ │  │     │     │        │        │           │    »\n",
       "    q_1: ─┤ Ry(2.7164e-06) ├─■──┼──■──┼──■──┼─────■──┼─────■──┼────────■──┼────»\n",
       "          └─┬────────────┬─┘    │  │  │  │  │     │  │     │  │        │  │    »\n",
       "    q_2: ───┤ Ry(3.1416) ├──────■──■──┼──┼──┼──■──┼──┼──■──┼──┼─────■──┼──┼────»\n",
       "            ├────────────┤            │  │  │  │  │  │  │  │  │     │  │  │    »\n",
       "    q_3: ───┤ Ry(3.1416) ├────────────■──■──┼──■──┼──┼──┼──┼──┼──■──┼──┼──┼──■─»\n",
       "           ┌┴────────────┤                  │     │  │  │  │  │  │  │  │  │  │ »\n",
       "    q_4: ──┤ Ry(-6.2832) ├──────────────────■─────■──┼──■──┼──┼──■──┼──┼──┼──┼─»\n",
       "           └┬────────────┤                           │     │  │     │  │  │  │ »\n",
       "    q_5: ───┤ Ry(5.8334) ├───────────────────────────■─────■──┼─────■──┼──┼──■─»\n",
       "            ├────────────┤                                    │        │  │    »\n",
       "    q_6: ───┤ Ry(3.1416) ├────────────────────────────────────■────────■──┼────»\n",
       "            ├────────────┤                                                │    »\n",
       "    q_7: ───┤ Ry(3.1415) ├────────────────────────────────────────────────■────»\n",
       "           ┌┴────────────┤                                                     »\n",
       "    q_8: ──┤ Ry(-3.1416) ├─────────────────────────────────────────────────────»\n",
       "          ┌┴─────────────┴─┐                                                   »\n",
       "    q_9: ─┤ Ry(1.4919e-05) ├───────────────────────────────────────────────────»\n",
       "         ┌┴────────────────┤                                                   »\n",
       "   q_10: ┤ Ry(-5.3171e-05) ├───────────────────────────────────────────────────»\n",
       "         └──┬────────────┬─┘                                                   »\n",
       "   q_11: ───┤ Ry(4.4807) ├─────────────────────────────────────────────────────»\n",
       "            └────────────┘                                                     »\n",
       "meas: 12/══════════════════════════════════════════════════════════════════════»\n",
       "                                                                               »\n",
       "«                                                                  »\n",
       "«    q_0: ───────■──────────────■──────────────■─────────────────■─»\n",
       "«                │              │              │                 │ »\n",
       "«    q_1: ────■──┼───────────■──┼───────────■──┼──────────────■──┼─»\n",
       "«             │  │           │  │           │  │              │  │ »\n",
       "«    q_2: ─■──┼──┼────────■──┼──┼────────■──┼──┼───────────■──┼──┼─»\n",
       "«          │  │  │        │  │  │        │  │  │           │  │  │ »\n",
       "«    q_3: ─┼──┼──┼─────■──┼──┼──┼─────■──┼──┼──┼────────■──┼──┼──┼─»\n",
       "«          │  │  │     │  │  │  │     │  │  │  │        │  │  │  │ »\n",
       "«    q_4: ─┼──┼──┼──■──┼──┼──┼──┼──■──┼──┼──┼──┼─────■──┼──┼──┼──┼─»\n",
       "«          │  │  │  │  │  │  │  │  │  │  │  │  │     │  │  │  │  │ »\n",
       "«    q_5: ─┼──┼──┼──■──┼──┼──┼──┼──┼──┼──┼──┼──┼──■──┼──┼──┼──┼──┼─»\n",
       "«          │  │  │     │  │  │  │  │  │  │  │  │  │  │  │  │  │  │ »\n",
       "«    q_6: ─■──┼──┼─────■──┼──┼──┼──■──┼──┼──┼──┼──■──┼──┼──┼──┼──┼─»\n",
       "«             │  │        │  │  │     │  │  │  │     │  │  │  │  │ »\n",
       "«    q_7: ────■──┼────────■──┼──┼─────■──┼──┼──┼─────■──┼──┼──┼──┼─»\n",
       "«                │           │  │        │  │  │        │  │  │  │ »\n",
       "«    q_8: ───────■───────────■──┼────────■──┼──┼────────■──┼──┼──┼─»\n",
       "«                               │           │  │           │  │  │ »\n",
       "«    q_9: ──────────────────────■───────────■──┼───────────■──┼──┼─»\n",
       "«                                              │              │  │ »\n",
       "«   q_10: ─────────────────────────────────────■──────────────■──┼─»\n",
       "«                                                                │ »\n",
       "«   q_11: ───────────────────────────────────────────────────────■─»\n",
       "«                                                                  »\n",
       "«meas: 12/═════════════════════════════════════════════════════════»\n",
       "«                                                                  »\n",
       "«         ┌────────────┐                                      »\n",
       "«    q_0: ┤ Ry(3.1416) ├──────────────────────────────────────»\n",
       "«         └────────────┘            ┌────────────┐            »\n",
       "«    q_1: ────────────────────────■─┤ Ry(3.1416) ├────────────»\n",
       "«                                 │ └────────────┘            »\n",
       "«    q_2: ─────────────────────■──┼─────────────────────────■─»\n",
       "«                              │  │                         │ »\n",
       "«    q_3: ──────────────────■──┼──┼──────────────────────■──┼─»\n",
       "«                           │  │  │                      │  │ »\n",
       "«    q_4: ───────────────■──┼──┼──┼───────────────────■──┼──┼─»\n",
       "«                        │  │  │  │                   │  │  │ »\n",
       "«    q_5: ──────■────────┼──┼──┼──┼────────────────■──┼──┼──┼─»\n",
       "«               │        │  │  │  │                │  │  │  │ »\n",
       "«    q_6: ──────┼────────┼──┼──┼──┼───────■────────┼──┼──┼──┼─»\n",
       "«               │        │  │  │  │       │        │  │  │  │ »\n",
       "«    q_7: ──────■────────┼──┼──┼──┼───────■────────┼──┼──┼──┼─»\n",
       "«                        │  │  │  │                │  │  │  │ »\n",
       "«    q_8: ───────────────■──┼──┼──┼────────────────■──┼──┼──┼─»\n",
       "«                           │  │  │                   │  │  │ »\n",
       "«    q_9: ──────────────────■──┼──┼───────────────────■──┼──┼─»\n",
       "«                              │  │                      │  │ »\n",
       "«   q_10: ─────────────────────■──┼──────────────────────■──┼─»\n",
       "«                                 │                         │ »\n",
       "«   q_11: ────────────────────────■─────────────────────────■─»\n",
       "«                                                             »\n",
       "«meas: 12/════════════════════════════════════════════════════»\n",
       "«                                                             »\n",
       "«                                                             »\n",
       "«    q_0: ────────────────────────────────────────────────────»\n",
       "«                                                             »\n",
       "«    q_1: ────────────────────────────────────────────────────»\n",
       "«         ┌─────────────────┐                                 »\n",
       "«    q_2: ┤ Ry(-2.2603e-05) ├─────────────────────────────────»\n",
       "«         └─────────────────┘         ┌─────────────┐         »\n",
       "«    q_3: ──────────────────────────■─┤ Ry(-3.1416) ├─────────»\n",
       "«                                   │ └─────────────┘         »\n",
       "«    q_4: ───────────────────────■──┼───────────────────────■─»\n",
       "«                                │  │                       │ »\n",
       "«    q_5: ────────────────────■──┼──┼────────────────────■──┼─»\n",
       "«                             │  │  │                    │  │ »\n",
       "«    q_6: ─────────■──────────┼──┼──┼─────────────────■──┼──┼─»\n",
       "«                  │          │  │  │                 │  │  │ »\n",
       "«    q_7: ─────────┼──────────┼──┼──┼────────■────────┼──┼──┼─»\n",
       "«                  │          │  │  │        │        │  │  │ »\n",
       "«    q_8: ─────────■──────────┼──┼──┼────────■────────┼──┼──┼─»\n",
       "«                             │  │  │                 │  │  │ »\n",
       "«    q_9: ────────────────────■──┼──┼─────────────────■──┼──┼─»\n",
       "«                                │  │                    │  │ »\n",
       "«   q_10: ───────────────────────■──┼────────────────────■──┼─»\n",
       "«                                   │                       │ »\n",
       "«   q_11: ──────────────────────────■───────────────────────■─»\n",
       "«                                                             »\n",
       "«meas: 12/════════════════════════════════════════════════════»\n",
       "«                                                             »\n",
       "«                                                                       »\n",
       "«    q_0: ──────────────────────────────────────────────────────────────»\n",
       "«                                                                       »\n",
       "«    q_1: ──────────────────────────────────────────────────────────────»\n",
       "«                                                                       »\n",
       "«    q_2: ──────────────────────────────────────────────────────────────»\n",
       "«                                                                       »\n",
       "«    q_3: ──────────────────────────────────────────────────────────────»\n",
       "«         ┌────────────────┐                                            »\n",
       "«    q_4: ┤ Ry(1.3446e-05) ├────────────────────────────────────────────»\n",
       "«         └────────────────┘      ┌─────────────┐                       »\n",
       "«    q_5: ──────────────────────■─┤ Ry(-6.3936) ├───────────────────────»\n",
       "«                               │ └─────────────┘      ┌────────────┐   »\n",
       "«    q_6: ───────────────────■──┼────────────────────■─┤ Ry(3.1417) ├───»\n",
       "«                            │  │                    │ └────────────┘   »\n",
       "«    q_7: ────────■──────────┼──┼─────────────────■──┼────────────────■─»\n",
       "«                 │          │  │                 │  │                │ »\n",
       "«    q_8: ────────┼──────────┼──┼────────■────────┼──┼───────■────────┼─»\n",
       "«                 │          │  │        │        │  │       │        │ »\n",
       "«    q_9: ────────■──────────┼──┼────────■────────┼──┼───────┼────────┼─»\n",
       "«                            │  │                 │  │       │        │ »\n",
       "«   q_10: ───────────────────■──┼─────────────────■──┼───────■────────┼─»\n",
       "«                               │                    │                │ »\n",
       "«   q_11: ──────────────────────■────────────────────■────────────────■─»\n",
       "«                                                                       »\n",
       "«meas: 12/══════════════════════════════════════════════════════════════»\n",
       "«                                                                       »\n",
       "«                                                                          ░ »\n",
       "«    q_0: ─────────────────────────────────────────────────────────────────░─»\n",
       "«                                                                          ░ »\n",
       "«    q_1: ─────────────────────────────────────────────────────────────────░─»\n",
       "«                                                                          ░ »\n",
       "«    q_2: ─────────────────────────────────────────────────────────────────░─»\n",
       "«                                                                          ░ »\n",
       "«    q_3: ─────────────────────────────────────────────────────────────────░─»\n",
       "«                                                                          ░ »\n",
       "«    q_4: ─────────────────────────────────────────────────────────────────░─»\n",
       "«                                                                          ░ »\n",
       "«    q_5: ─────────────────────────────────────────────────────────────────░─»\n",
       "«                                                                          ░ »\n",
       "«    q_6: ─────────────────────────────────────────────────────────────────░─»\n",
       "«         ┌────────────────┐                                               ░ »\n",
       "«    q_7: ┤ Ry(9.6586e-05) ├───────────────────────────────────────────────░─»\n",
       "«         └────────────────┘   ┌────────────┐                              ░ »\n",
       "«    q_8: ───────────────────■─┤ Ry(3.1416) ├──────────────────────────────░─»\n",
       "«                            │ └────────────┘┌─────────────┐               ░ »\n",
       "«    q_9: ────────■──────────┼───────■───────┤ Ry(-3.1415) ├───────────────░─»\n",
       "«                 │          │       │       └─────────────┘┌────────────┐ ░ »\n",
       "«   q_10: ────────■──────────┼───────┼──────────────■───────┤ Ry(6.2832) ├─░─»\n",
       "«                            │       │              │       ├────────────┤ ░ »\n",
       "«   q_11: ───────────────────■───────■──────────────■───────┤ Ry(4.9687) ├─░─»\n",
       "«                                                           └────────────┘ ░ »\n",
       "«meas: 12/═══════════════════════════════════════════════════════════════════»\n",
       "«                                                                            »\n",
       "«         ┌─┐                                 \n",
       "«    q_0: ┤M├─────────────────────────────────\n",
       "«         └╥┘┌─┐                              \n",
       "«    q_1: ─╫─┤M├──────────────────────────────\n",
       "«          ║ └╥┘┌─┐                           \n",
       "«    q_2: ─╫──╫─┤M├───────────────────────────\n",
       "«          ║  ║ └╥┘┌─┐                        \n",
       "«    q_3: ─╫──╫──╫─┤M├────────────────────────\n",
       "«          ║  ║  ║ └╥┘┌─┐                     \n",
       "«    q_4: ─╫──╫──╫──╫─┤M├─────────────────────\n",
       "«          ║  ║  ║  ║ └╥┘┌─┐                  \n",
       "«    q_5: ─╫──╫──╫──╫──╫─┤M├──────────────────\n",
       "«          ║  ║  ║  ║  ║ └╥┘┌─┐               \n",
       "«    q_6: ─╫──╫──╫──╫──╫──╫─┤M├───────────────\n",
       "«          ║  ║  ║  ║  ║  ║ └╥┘┌─┐            \n",
       "«    q_7: ─╫──╫──╫──╫──╫──╫──╫─┤M├────────────\n",
       "«          ║  ║  ║  ║  ║  ║  ║ └╥┘┌─┐         \n",
       "«    q_8: ─╫──╫──╫──╫──╫──╫──╫──╫─┤M├─────────\n",
       "«          ║  ║  ║  ║  ║  ║  ║  ║ └╥┘┌─┐      \n",
       "«    q_9: ─╫──╫──╫──╫──╫──╫──╫──╫──╫─┤M├──────\n",
       "«          ║  ║  ║  ║  ║  ║  ║  ║  ║ └╥┘┌─┐   \n",
       "«   q_10: ─╫──╫──╫──╫──╫──╫──╫──╫──╫──╫─┤M├───\n",
       "«          ║  ║  ║  ║  ║  ║  ║  ║  ║  ║ └╥┘┌─┐\n",
       "«   q_11: ─╫──╫──╫──╫──╫──╫──╫──╫──╫──╫──╫─┤M├\n",
       "«          ║  ║  ║  ║  ║  ║  ║  ║  ║  ║  ║ └╥┘\n",
       "«meas: 12/═╩══╩══╩══╩══╩══╩══╩══╩══╩══╩══╩══╩═\n",
       "«          0  1  2  3  4  5  6  7  8  9  10 11"
      ]
     },
     "execution_count": 142,
     "metadata": {},
     "output_type": "execute_result"
    }
   ],
   "source": [
    "bound_c = result.optimal_circuit.decompose().bind_parameters(result.optimal_point)\n",
    "bound_c.measure_all()\n",
    "bound_c.draw()"
   ]
  },
  {
   "cell_type": "markdown",
   "id": "8269014e41499b4d",
   "metadata": {},
   "source": [
    "### We need to format the exported OpenQASM to remove IBM specific input so it can be executed on other backends."
   ]
  },
  {
   "cell_type": "code",
   "execution_count": 36,
   "id": "cdf2436a22d969c8",
   "metadata": {},
   "outputs": [],
   "source": [
    "def get_qasm_from_bound_c(bound_c):\n",
    "    circuit = 'OPENQASM 2.0;\\n'\n",
    "    # Use lines after line 3 so we skip over the ibm import and use the rest\n",
    "    # and also remove any barrier lines since they are only used for display and do not interfere with the circuit\n",
    "    circuit += '\\n'.join([line for line in bound_c.qasm().splitlines()[2:] \n",
    "                          if not line.startswith('barrier')])\n",
    "    return circuit"
   ]
  },
  {
   "cell_type": "markdown",
   "id": "1a02ef027ff71bae",
   "metadata": {},
   "source": [
    "## Execution on remote backends <a id=\"remote-backends\"></a>"
   ]
  },
  {
   "cell_type": "markdown",
   "id": "2c3eed85ba956ddb",
   "metadata": {},
   "source": [
    "### IBM Quantum <a id=\"ibm-backend\"></a>"
   ]
  },
  {
   "cell_type": "markdown",
   "id": "308ebb7990aa78e",
   "metadata": {},
   "source": [
    "### Prerequisites \n",
    "\n",
    "To execute the job on IBM backend an account is required to be created for valid credentials on [quantum.ibm](https://quantum.ibm.com/)"
   ]
  },
  {
   "cell_type": "markdown",
   "id": "9c1a9bc6a102682b",
   "metadata": {},
   "source": [
    "#### install requirements for the IBM backend"
   ]
  },
  {
   "cell_type": "code",
   "execution_count": 37,
   "id": "651a13bbb933c151",
   "metadata": {},
   "outputs": [
    {
     "name": "stderr",
     "output_type": "stream",
     "text": [
      "Courtesy Notice: Pipenv found itself running within a virtual environment, so it will automatically use that environment, instead of creating its own for any project. You can set PIPENV_IGNORE_VIRTUALENVS=1 to force pipenv to ignore that environment and create its own instead. You can set PIPENV_VERBOSITY=-1 to suppress this warning.\n"
     ]
    },
    {
     "name": "stdout",
     "output_type": "stream",
     "text": [
      "\u001b[1mInstalling dependencies from Pipfile.lock \u001b[0m\u001b[1m(\u001b[0m\u001b[1m8b6187\u001b[0m\u001b[1m)\u001b[0m\u001b[1;33m...\u001b[0m\n",
      "To activate this project's virtualenv, run \u001b[33mpipenv shell\u001b[0m.\n",
      "Alternatively, run a command inside the virtualenv with \u001b[33mpipenv run\u001b[0m.\n"
     ]
    },
    {
     "data": {
      "text/plain": [
       "0"
      ]
     },
     "execution_count": 37,
     "metadata": {},
     "output_type": "execute_result"
    }
   ],
   "source": [
    "os.system('pipenv install --categories ibm-backend')"
   ]
  },
  {
   "cell_type": "markdown",
   "id": "c5c6c34f69dad084",
   "metadata": {},
   "source": [
    "### Set the backend token required from the valid account setup on quantum IBM.\n",
    "In a `.env` file in the root of the project set the required variable\n",
    "\n",
    "```bash\n",
    "IBM_BACKEND_TOKEN=\"YOUR_TOKEN_HERE\"\n",
    "```"
   ]
  },
  {
   "cell_type": "code",
   "execution_count": 38,
   "id": "8e171b3235290127",
   "metadata": {},
   "outputs": [],
   "source": [
    "from dotenv import load_dotenv\n",
    "\n",
    "load_dotenv()\n",
    "IBM_BACKEND_TOKEN = os.environ.get('IBM_BACKEND_TOKEN')"
   ]
  },
  {
   "cell_type": "markdown",
   "id": "7d58ee43c7ecb268",
   "metadata": {},
   "source": [
    "#### Import requirements"
   ]
  },
  {
   "cell_type": "code",
   "execution_count": 39,
   "id": "bd53d435ef2abc55",
   "metadata": {},
   "outputs": [],
   "source": [
    "from qiskit_ibm_runtime import Options, QiskitRuntimeService, Sampler\n",
    "\n",
    "service = QiskitRuntimeService(channel=\"ibm_quantum\",\n",
    "                               token=IBM_BACKEND_TOKEN)\n",
    "options = Options(optimization_level=1)\n",
    "\n",
    "# Get the least busy backend\n",
    "backend = service.least_busy(simulator=False, operational=True)\n",
    "\n",
    "# Execute the circuit\n",
    "sampler = Sampler(backend=backend, options=options)\n",
    "job = sampler.run(circuits=bound_c, shots=100)\n",
    "print(job.result())"
   ]
  },
  {
   "cell_type": "markdown",
   "id": "98309799f9d6b621",
   "metadata": {},
   "source": [
    "### Validate the execution result"
   ]
  },
  {
   "cell_type": "code",
   "execution_count": null,
   "id": "29ac132bbdfb25f7",
   "metadata": {},
   "outputs": [
    {
     "data": {
      "text/plain": [
       "Text(1703, 0.033, 'Max: 2694.00 \\n |101010000110>')"
      ]
     },
     "execution_count": 154,
     "metadata": {},
     "output_type": "execute_result"
    },
    {
     "data": {
      "image/png": "[encoded data removed]",
      "text/plain": [
       "<Figure size 1200x800 with 1 Axes>"
      ]
     },
     "metadata": {},
     "output_type": "display_data"
    }
   ],
   "source": [
    "import operator\n",
    "\n",
    "sorted_dict = dict(sorted(job.result().quasi_dists[0].items(), key=operator.itemgetter(1)))\n",
    "y_plot = np.array(list(sorted_dict.values()))[::-1]\n",
    "x_plot = np.array(list(sorted_dict.keys()))[::-1]\n",
    "plt.scatter(x_plot,y_plot)\n",
    "plt.xlabel(\"State Index\")\n",
    "plt.ylabel(\"Quasi-Probability from n=100 shots\")\n",
    "plt.annotate(f'Max: {2694:.2f}'+\" \\n |101010000110>\", xy=(x_plot[0], 0.042), xytext=(x_plot[0] + 1, 0.033),\n",
    "             arrowprops=dict(facecolor='red', arrowstyle='->'),\n",
    "             bbox=dict(boxstyle='round,pad=0.3', edgecolor='black', facecolor='white'),\n",
    "             fontsize=18,\n",
    "             )"
   ]
  },
  {
   "cell_type": "code",
   "execution_count": null,
   "id": "c7931d9dd52ee912",
   "metadata": {},
   "outputs": [
    {
     "data": {
      "text/plain": [
       "1702"
      ]
     },
     "execution_count": 155,
     "metadata": {},
     "output_type": "execute_result"
    }
   ],
   "source": [
    "d = job.result().quasi_dists[0]\n",
    "\n",
    "max(d, key=d.get)"
   ]
  },
  {
   "cell_type": "code",
   "execution_count": null,
   "id": "1e9b8c70a229271f",
   "metadata": {},
   "outputs": [
    {
     "data": {
      "text/plain": [
       "(0.9530194987466041-0j)"
      ]
     },
     "execution_count": 156,
     "metadata": {},
     "output_type": "execute_result"
    }
   ],
   "source": [
    "(state.data**2)[2694]"
   ]
  },
  {
   "cell_type": "code",
   "execution_count": null,
   "id": "8d0ae7cbefc95c8",
   "metadata": {},
   "outputs": [],
   "source": [
    "result_bit = map_bitstring_to_matrix(2694)\n",
    "import pandas as pd\n",
    "\n",
    "df = pd.DataFrame(result_bit)\n",
    "print(df)"
   ]
  },
  {
   "cell_type": "markdown",
   "id": "ccb21a46c2c411a2",
   "metadata": {},
   "source": [
    "### AWS Braket <a id=\"aws-backend\"></a>"
   ]
  },
  {
   "cell_type": "markdown",
   "id": "d9d02eb46911f85b",
   "metadata": {},
   "source": [
    "#### Prerequisites\n",
    "\n",
    "To execute the job on AWS Braket the service needs to be properly [enabled](https://docs.aws.amazon.com/braket/latest/developerguide/braket-enable-overview.html). \n",
    "\n",
    "To be able to submit the job we also need to have [aws cli](https://aws.amazon.com/cli/) properly [installed](https://docs.aws.amazon.com/cli/latest/userguide/getting-started-install.html) and properly [configured](https://docs.aws.amazon.com/cli/latest/userguide/cli-configure-files.html) for access. Also the [aws-toolkit](https://marketplace.visualstudio.com/items?itemName=AmazonWebServices.aws-toolkit-vscode) needs to be installed and a profile needs to be chosen that corresponds with the active profile that provides access to the properly configured AWS Braket service."
   ]
  },
  {
   "cell_type": "markdown",
   "id": "8286d17f3890e3dc",
   "metadata": {},
   "source": [
    "#### install requirements for the AWS Braket backend"
   ]
  },
  {
   "cell_type": "code",
   "execution_count": null,
   "id": "644781d4130d451a",
   "metadata": {},
   "outputs": [],
   "source": [
    "os.system('pipenv install --categories aws-backend')"
   ]
  },
  {
   "cell_type": "markdown",
   "id": "dbe78c78172b11db",
   "metadata": {},
   "source": [
    "AWS OpenQASM is not absolutelly compatible with IBM OpenQASM that gets exported from the bound circuit so we need to tweak the circuit a little to execute on AWS."
   ]
  },
  {
   "cell_type": "code",
   "execution_count": null,
   "id": "f79b101e5a2f1c6",
   "metadata": {},
   "outputs": [],
   "source": [
    "def to_aws_compatible_qasm(bound_c):\n",
    "    def to_aws_qasm(line):\n",
    "        gates = {'p(': 'phaseshift(',\n",
    "                 'cx ': 'cnot '}\n",
    "        for original, replacement in gates.items():\n",
    "            if line.startswith(original):\n",
    "                return line.replace(original, replacement)\n",
    "        return line \n",
    "    return ''.join([to_aws_qasm(line) for line in get_qasm_from_bound_c(bound_c)])"
   ]
  },
  {
   "cell_type": "markdown",
   "id": "3db8668ab565c870",
   "metadata": {},
   "source": [
    "#### Set active profile name with access to Braket and region\n",
    "In a `.env` file in the root of the project set the required variable\n",
    "\n",
    "```bash\n",
    "BRAKET_PROFILE=\"Braket-Admin\"\n",
    "BRAKET_REGION=\"eu-west-2\"\n",
    "```"
   ]
  },
  {
   "cell_type": "code",
   "execution_count": null,
   "id": "835cf851c7772cf0",
   "metadata": {},
   "outputs": [],
   "source": [
    "from dotenv import load_dotenv\n",
    "load_dotenv()\n",
    "BRAKET_PROFILE = os.environ.get('BRAKET_PROFILE')\n",
    "BRAKET_REGION = os.environ.get('BRAKET_REGION')"
   ]
  },
  {
   "cell_type": "code",
   "execution_count": null,
   "id": "60b16688915160d6",
   "metadata": {},
   "outputs": [],
   "source": [
    "from boto3 import Session\n",
    "from braket.aws import AwsDevice, AwsSession\n",
    "from braket.ir.openqasm import Program\n",
    "\n",
    "# Construct the required braket session from a boto session\n",
    "aws_session = AwsSession(boto_session=Session(profile_name=BRAKET_PROFILE, \n",
    "                                              region_name=BRAKET_REGION))\n",
    "# We are going to use sv1 remote simulator as that is the only one compatible with our circuit (gate based)\n",
    "device = AwsDevice(\"arn:aws:braket:::device/quantum-simulator/amazon/sv1\", aws_session=aws_session)"
   ]
  },
  {
   "cell_type": "code",
   "execution_count": null,
   "id": "157ffc00a5347344",
   "metadata": {},
   "outputs": [
    {
     "name": "stdout",
     "output_type": "stream",
     "text": [
      "AwsQuantumTask('id/taskArn':'arn:aws:braket:eu-west-2:758793629524:quantum-task/65df6d7b-8764-4b31-825b-694dad76c599')\n"
     ]
    }
   ],
   "source": [
    "# Create a program with the OpenQASM source and execute of the remote\n",
    "program = Program(source=get_qasm_from_bound_c(bound_c))\n",
    "result = device.run(program, shots=10)\n",
    "# Print the remote executed task id\n",
    "print(result)\n",
    "# The result of the run can be retrieved from the configured s3 backet of the Braket service\n",
    "# by following the quantum task information on the quantum tasks tab of the the braket service."
   ]
  },
  {
   "cell_type": "markdown",
   "id": "4db207ae0a972065",
   "metadata": {},
   "source": [
    "### Quantum Inspire <a id=\"inspire-backend\"></a>"
   ]
  },
  {
   "cell_type": "markdown",
   "id": "fd1be696956740b0",
   "metadata": {},
   "source": [
    "#### Prerequisites\n",
    "\n",
    "To execute the job on Quantum inspire backend an account is required to be created for valid credentials on [quantum-inspire](https://www.quantum-inspire.com/)"
   ]
  },
  {
   "cell_type": "markdown",
   "id": "2b71533082e05d60",
   "metadata": {},
   "source": [
    "#### Install requirements for the Inspire backend"
   ]
  },
  {
   "cell_type": "code",
   "execution_count": null,
   "id": "8d7fc157b00aac34",
   "metadata": {},
   "outputs": [],
   "source": [
    "os.system('pipenv install --categories inspire-backend')"
   ]
  },
  {
   "cell_type": "markdown",
   "id": "dda474525ab6ae6e",
   "metadata": {},
   "source": [
    "### Set the backend variables required from the valid account setup on quantum inspire."
   ]
  },
  {
   "cell_type": "markdown",
   "id": "7d9cb93a7d5e2d98",
   "metadata": {},
   "source": [
    "In a .env file in the root of the project set the required variable\n",
    "```bash\n",
    "INSPIRE_TOKEN='YOUR_TOKEN_HERE'\n",
    "```\n"
   ]
  },
  {
   "cell_type": "code",
   "execution_count": null,
   "id": "e3ab8e1525cd0a8d",
   "metadata": {},
   "outputs": [],
   "source": [
    "# Created by authenticating in the service and going to (account)[https://www.quantum-inspire.com/account]\n",
    "from dotenv import load_dotenv\n",
    "load_dotenv()\n",
    "INSPIRE_TOKEN=os.environ.get('INSPIRE_TOKEN')\n",
    "INSPIRE_DEVICE_ID = 'QX-34-L' # The only backend that can run our job, a simulator.\n",
    "INSPIRE_SERVER_URL = r'https://api.quantum-inspire.com'"
   ]
  },
  {
   "cell_type": "code",
   "execution_count": null,
   "id": "24b2b17bf311095",
   "metadata": {},
   "outputs": [],
   "source": [
    "from quantuminspire.api import QuantumInspireAPI\n",
    "from quantuminspire.credentials import enable_account, get_authentication\n",
    "\n",
    "enable_account(INSPIRE_TOKEN)\n",
    "\n",
    "qi = QuantumInspireAPI(INSPIRE_SERVER_URL, get_authentication(), INSPIRE_DEVICE_ID)\n",
    "\n",
    "backend_type = qi.get_backend_type_by_name(INSPIRE_DEVICE_ID)\n",
    "result = qi.execute_qasm(get_qasm_from_bound_c(bound_c), backend_type=backend_type, number_of_shots=100)\n",
    "print(result)"
   ]
  },
  {
   "cell_type": "markdown",
   "id": "5ccb255ca9407a8b",
   "metadata": {},
   "source": [
    "#### The inspire backend is not really supported and probably not functioning at all"
   ]
  }
 ],
 "metadata": {
  "kernelspec": {
   "display_name": "quantum",
   "language": "python",
   "name": "quantum"
  },
  "language_info": {
   "codemirror_mode": {
    "name": "ipython",
    "version": 3
   },
   "file_extension": ".py",
   "mimetype": "text/x-python",
   "name": "python",
   "nbconvert_exporter": "python",
   "pygments_lexer": "ipython3",
   "version": "3.10.8"
  }
 },
 "nbformat": 4,
 "nbformat_minor": 5
}
